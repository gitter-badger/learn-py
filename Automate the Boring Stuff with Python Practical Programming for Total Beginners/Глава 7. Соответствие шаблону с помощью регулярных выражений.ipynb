{
 "metadata": {
  "name": "",
  "signature": "sha256:daaa07773a9c3a7b00c2973059f754729590b83075e0d3020424fd3e101fe2f8"
 },
 "nbformat": 3,
 "nbformat_minor": 0,
 "worksheets": [
  {
   "cells": [
    {
     "cell_type": "code",
     "collapsed": false,
     "input": [
      "##\u0441\u0442\u0440 163\n",
      "\n",
      "def isPhoneNumber(text):\n",
      "    if len(text) !=12:#\u043f\u0440\u043e\u0432\u0435\u0440\u043a\u0430 \u043d\u0430 \u0442\u043e \u0447\u0442\u043e \u0434\u043b\u0438\u043d\u0430 \u0441\u0442\u0440\u043e\u043a\u0438 12 \u0441\u0438\u043c\u0432\u043e\u043b\u043e\u0432\n",
      "        return False\n",
      "    for i in range(0,3):#\u043f\u0435\u0440\u0432\u044b\u0435 \u0442\u0440\u0438 \u0441\u0438\u043c\u0432\u043e\u043b\u0430 \u0446\u0438\u0444\u0440\u044b ??? \u043f\u0435\u0440\u0432\u044b\u0439 \u0430\u0440\u0433\u0443\u043c\u0435\u043d\u0442 \u043d\u0430\u0447\u0430\u043b\u043e, \u0432\u0442\u043e\u0440\u043e\u0439 \u043a\u043e\u0433\u0434\u0430 \u043e\u0441\u0442\u0430\u043d\u043e\u0432\u0438\u0442\u0441\u044f \u043d\u0435 \u0432\u043a\u043b\u044e\u0447\u0438\u0442\u0435\u043b\u044c\u043d\u043e \u0442\u0440\u0435\u0442\u0438\u0439 \u0448\u0430\u0433 \n",
      "        if not text[i].isdecimal():#\u043f\u0440\u043e\u0432\u0435\u0440\u043a\u0430 \u043d\u0430 \u0442\u043e \u0447\u0442\u043e \u0442\u0435\u0445\u0442 \u0434\u0435\u0441\u044f\u0442\u0438\u0447\u043d\u044b\u0435 \u0446\u0438\u0444\u0440\u044b\n",
      "            return False\n",
      "        if text[3] != '-':#\u043f\u0440\u043e\u0432\u0435\u0440\u043a\u0430 \u0447\u0435\u0442\u0432\u0451\u0440\u0442\u043e\u0433\u043e \u043d\u0430 \u0441\u043e\u043e\u0442\u0432\u0435\u0442\u0441\u0442\u0432\u0438\u0435 \u0434\u0435\u0444\u0438\u0441\u0443\n",
      "            return False\n",
      "        for i in range(4, 7):#\u0441 \u0447\u0435\u0442\u0432\u0451\u0440\u0442\u043e\u0433\u043e \u043f\u043e \u0448\u0435\u0441\u0442\u043e\u0439\n",
      "            if not text[i].isdecimal():\n",
      "                return False\n",
      "            if text[7] != '-':\n",
      "                return False\n",
      "            for i in range(8, 12):\n",
      "                if not text[i].isdecimal():\n",
      "                    return False\n",
      "            return True\n",
      "print('415-555-4242 is a is a phone number:')\n",
      "print(isPhoneNumber('415-555-4242'))\n",
      "print('Mochi mochi is a phone number:')\n",
      "print(isPhoneNumber('Mochi mochi'))"
     ],
     "language": "python",
     "metadata": {},
     "outputs": []
    }
   ],
   "metadata": {}
  }
 ]
}